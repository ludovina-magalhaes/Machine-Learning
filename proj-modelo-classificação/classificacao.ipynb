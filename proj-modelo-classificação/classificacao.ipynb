{
 "cells": [
  {
   "cell_type": "code",
   "execution_count": 1,
   "metadata": {},
   "outputs": [
    {
     "data": {
      "text/html": [
       "<div>\n",
       "<style scoped>\n",
       "    .dataframe tbody tr th:only-of-type {\n",
       "        vertical-align: middle;\n",
       "    }\n",
       "\n",
       "    .dataframe tbody tr th {\n",
       "        vertical-align: top;\n",
       "    }\n",
       "\n",
       "    .dataframe thead th {\n",
       "        text-align: right;\n",
       "    }\n",
       "</style>\n",
       "<table border=\"1\" class=\"dataframe\">\n",
       "  <thead>\n",
       "    <tr style=\"text-align: right;\">\n",
       "      <th></th>\n",
       "      <th>id</th>\n",
       "      <th>estudo</th>\n",
       "      <th>nota</th>\n",
       "    </tr>\n",
       "  </thead>\n",
       "  <tbody>\n",
       "    <tr>\n",
       "      <th>0</th>\n",
       "      <td>1</td>\n",
       "      <td>1</td>\n",
       "      <td>0.75</td>\n",
       "    </tr>\n",
       "    <tr>\n",
       "      <th>1</th>\n",
       "      <td>2</td>\n",
       "      <td>1</td>\n",
       "      <td>3.00</td>\n",
       "    </tr>\n",
       "    <tr>\n",
       "      <th>2</th>\n",
       "      <td>3</td>\n",
       "      <td>2</td>\n",
       "      <td>1.75</td>\n",
       "    </tr>\n",
       "    <tr>\n",
       "      <th>3</th>\n",
       "      <td>4</td>\n",
       "      <td>3</td>\n",
       "      <td>1.75</td>\n",
       "    </tr>\n",
       "    <tr>\n",
       "      <th>4</th>\n",
       "      <td>5</td>\n",
       "      <td>4</td>\n",
       "      <td>4.20</td>\n",
       "    </tr>\n",
       "    <tr>\n",
       "      <th>5</th>\n",
       "      <td>6</td>\n",
       "      <td>4</td>\n",
       "      <td>6.50</td>\n",
       "    </tr>\n",
       "    <tr>\n",
       "      <th>6</th>\n",
       "      <td>7</td>\n",
       "      <td>5</td>\n",
       "      <td>2.90</td>\n",
       "    </tr>\n",
       "    <tr>\n",
       "      <th>7</th>\n",
       "      <td>8</td>\n",
       "      <td>6</td>\n",
       "      <td>6.20</td>\n",
       "    </tr>\n",
       "    <tr>\n",
       "      <th>8</th>\n",
       "      <td>9</td>\n",
       "      <td>6</td>\n",
       "      <td>7.00</td>\n",
       "    </tr>\n",
       "    <tr>\n",
       "      <th>9</th>\n",
       "      <td>10</td>\n",
       "      <td>7</td>\n",
       "      <td>6.20</td>\n",
       "    </tr>\n",
       "    <tr>\n",
       "      <th>10</th>\n",
       "      <td>11</td>\n",
       "      <td>8</td>\n",
       "      <td>8.50</td>\n",
       "    </tr>\n",
       "    <tr>\n",
       "      <th>11</th>\n",
       "      <td>12</td>\n",
       "      <td>8</td>\n",
       "      <td>10.00</td>\n",
       "    </tr>\n",
       "    <tr>\n",
       "      <th>12</th>\n",
       "      <td>13</td>\n",
       "      <td>9</td>\n",
       "      <td>8.60</td>\n",
       "    </tr>\n",
       "    <tr>\n",
       "      <th>13</th>\n",
       "      <td>14</td>\n",
       "      <td>9</td>\n",
       "      <td>9.90</td>\n",
       "    </tr>\n",
       "    <tr>\n",
       "      <th>14</th>\n",
       "      <td>15</td>\n",
       "      <td>9</td>\n",
       "      <td>10.00</td>\n",
       "    </tr>\n",
       "  </tbody>\n",
       "</table>\n",
       "</div>"
      ],
      "text/plain": [
       "    id  estudo   nota\n",
       "0    1       1   0.75\n",
       "1    2       1   3.00\n",
       "2    3       2   1.75\n",
       "3    4       3   1.75\n",
       "4    5       4   4.20\n",
       "5    6       4   6.50\n",
       "6    7       5   2.90\n",
       "7    8       6   6.20\n",
       "8    9       6   7.00\n",
       "9   10       7   6.20\n",
       "10  11       8   8.50\n",
       "11  12       8  10.00\n",
       "12  13       9   8.60\n",
       "13  14       9   9.90\n",
       "14  15       9  10.00"
      ]
     },
     "execution_count": 1,
     "metadata": {},
     "output_type": "execute_result"
    }
   ],
   "source": [
    "import pandas as pd\n",
    "\n",
    "# Carregar os dados\n",
    "df = pd.read_excel(\"../data/dados_estudo_nota.xlsx\")\n",
    "df\n"
   ]
  },
  {
   "cell_type": "code",
   "execution_count": null,
   "metadata": {},
   "outputs": [
    {
     "data": {
      "text/plain": [
       "array([False, False, False, False, False, False,  True,  True,  True,\n",
       "        True,  True,  True,  True,  True,  True])"
      ]
     },
     "execution_count": 3,
     "metadata": {},
     "output_type": "execute_result"
    }
   ],
   "source": [
    "# Esta parte é feita com  Modelo de Rregressão\n",
    "df['Aprovado'] = df[\"nota\"] >= 5\n",
    "\n",
    "features = ['estudo']\n",
    "target = 'Aprovado'\n",
    "# %%\n",
    "from sklearn import linear_model\n",
    "reg = linear_model.LogisticRegression(penalty=None,\n",
    "                                      fit_intercept=True)\n",
    "# Aqui o modelo aprende\n",
    "reg.fit(df[features], df[target])\n",
    "\n",
    "# aqui o modelo vai fazer a previsão\n",
    "reg_predict = reg.predict(df[features])\n",
    "reg_predict"
   ]
  },
  {
   "cell_type": "code",
   "execution_count": 4,
   "metadata": {},
   "outputs": [
    {
     "name": "stdout",
     "output_type": "stream",
     "text": [
      "Acurácia Reg Log.: 0.8666666666666667\n",
      "Precisão Reg Log.: 0.8888888888888888\n",
      "Recall Reg Log.: 0.8888888888888888\n",
      "       False  True\n",
      "False      5     1\n",
      "True       1     8\n"
     ]
    }
   ],
   "source": [
    "from sklearn import metrics\n",
    "\n",
    "# comparamos o valor verdadeiro(df[target]) valor com o valor que o modelo preveu(reg_predict)\n",
    "reg_acc = metrics.accuracy_score(df[target], reg_predict)\n",
    "print(\"Acurácia Reg Log.:\", reg_acc)\n",
    "\n",
    "# Calculo da Previsão\n",
    "reg_precision = metrics.precision_score(df[target], reg_predict)\n",
    "print(\"Precisão Reg Log.:\", reg_precision)\n",
    "\n",
    "reg_recall = metrics.recall_score(df[target], reg_predict)\n",
    "print(\"Recall Reg Log.:\", reg_recall)\n",
    "\n",
    "# Matrix de confusão\n",
    "reg_conf = metrics.confusion_matrix(df[target], reg_predict)\n",
    "reg_conf = pd.DataFrame(reg_conf,\n",
    "                        index=['False', 'True'],\n",
    "                        columns=['False', 'True'],)\n",
    "\n",
    "print(reg_conf)"
   ]
  },
  {
   "cell_type": "code",
   "execution_count": 5,
   "metadata": {},
   "outputs": [
    {
     "name": "stdout",
     "output_type": "stream",
     "text": [
      "Acurácia Árvore: 0.9333333333333333\n",
      "Precisão Árvore: 1.0\n",
      "Recall Árvore: 0.8888888888888888\n"
     ]
    },
    {
     "data": {
      "text/plain": [
       "array([[6, 0],\n",
       "       [1, 8]])"
      ]
     },
     "execution_count": 5,
     "metadata": {},
     "output_type": "execute_result"
    }
   ],
   "source": [
    "# Esta parte é feita com  Modelo de Arvore\n",
    "from sklearn import tree\n",
    "arvore = tree.DecisionTreeClassifier(max_depth=3)\n",
    "\n",
    "# aqui o modelo aprende\n",
    "arvore.fit(df[features], df[target])\n",
    "\n",
    "# aqui o modelo prevê\n",
    "arvore_predict = arvore.predict(df[features])\n",
    "arvore_predict\n",
    "\n",
    "arvore_acc = metrics.accuracy_score(df[target], arvore_predict)\n",
    "print(\"Acurácia Árvore:\", arvore_acc)\n",
    "\n",
    "arvore_precision = metrics.precision_score(df[target], arvore_predict)\n",
    "print(\"Precisão Árvore:\", arvore_precision)\n",
    "\n",
    "arvore_recall = metrics.recall_score(df[target], arvore_predict)\n",
    "print(\"Recall Árvore:\", arvore_recall)\n",
    "\n",
    "arvore_conf = metrics.confusion_matrix(df[target], arvore_predict)\n",
    "arvore_conf"
   ]
  },
  {
   "cell_type": "code",
   "execution_count": 6,
   "metadata": {},
   "outputs": [
    {
     "name": "stdout",
     "output_type": "stream",
     "text": [
      "Acurácia Naive Bayes: 0.8666666666666667\n",
      "Precisão Naive Bayes: 0.8888888888888888\n",
      "Recall NB: 0.8888888888888888\n"
     ]
    },
    {
     "data": {
      "text/plain": [
       "array([[5, 1],\n",
       "       [1, 8]])"
      ]
     },
     "execution_count": 6,
     "metadata": {},
     "output_type": "execute_result"
    }
   ],
   "source": [
    "# Esta parte é feita com  Modelo Naive_Bayes\n",
    "from sklearn import naive_bayes\n",
    "nb = naive_bayes.GaussianNB()\n",
    "\n",
    "# aqui o modelo aprende\n",
    "nb.fit(df[features], df[target])\n",
    "\n",
    "# aqui o modelo esta a aprender\n",
    "nb_predict = nb.predict(df[features])\n",
    "nb_predict\n",
    "\n",
    "nb_acc = metrics.accuracy_score(df[target], nb_predict)\n",
    "print(\"Acurácia Naive Bayes:\", nb_acc)\n",
    "\n",
    "nb_precision = metrics.precision_score(df[target], nb_predict)\n",
    "print(\"Precisão Naive Bayes:\", nb_precision)\n",
    "\n",
    "nb_recall = metrics.recall_score(df[target], nb_predict)\n",
    "print(\"Recall NB:\", nb_recall)\n",
    "\n",
    "nb_conf = metrics.confusion_matrix(df[target], nb_predict)\n",
    "nb_conf\n"
   ]
  },
  {
   "cell_type": "code",
   "execution_count": 8,
   "metadata": {},
   "outputs": [
    {
     "name": "stdout",
     "output_type": "stream",
     "text": [
      "Acurácia Naive Bayes: 0.8666666666666667\n",
      "Precisão Naive Bayes: 0.8181818181818182\n",
      "Recall NB: 1.0\n"
     ]
    }
   ],
   "source": [
    "nb_proba = nb.predict_proba(df[features])[:,1]\n",
    "nb_predict = nb_proba > 0.2\n",
    "\n",
    "nb_acc = metrics.accuracy_score(df[target], nb_predict)\n",
    "print(\"Acurácia Naive Bayes:\", nb_acc)\n",
    "\n",
    "nb_precision = metrics.precision_score(df[target], nb_predict)\n",
    "print(\"Precisão Naive Bayes:\", nb_precision)\n",
    "\n",
    "nb_recall = metrics.recall_score(df[target], nb_predict)\n",
    "print(\"Recall NB:\", nb_recall)\n",
    "\n"
   ]
  },
  {
   "cell_type": "code",
   "execution_count": 9,
   "metadata": {},
   "outputs": [
    {
     "data": {
      "image/png": "[encoded data removed]",
      "text/plain": [
       "<Figure size 640x480 with 1 Axes>"
      ]
     },
     "metadata": {},
     "output_type": "display_data"
    }
   ],
   "source": [
    "# Curva Roc\n",
    "roc_curve = metrics.roc_curve(df[target], nb_proba)\n",
    "plt.plot(roc_curve[0], roc_curve[1] )\n",
    "plt.grid(True)\n",
    "plt.plot([0,1], [0,1], '--')\n",
    "plt.show()\n"
   ]
  },
  {
   "cell_type": "code",
   "execution_count": 10,
   "metadata": {},
   "outputs": [
    {
     "data": {
      "text/plain": [
       "np.float64(0.9722222222222223)"
      ]
     },
     "execution_count": 10,
     "metadata": {},
     "output_type": "execute_result"
    }
   ],
   "source": [
    "roc_auc = metrics.roc_auc_score(df[target], nb_proba)\n",
    "roc_auc\n"
   ]
  }
 ],
 "metadata": {
  "kernelspec": {
   "display_name": ".venv",
   "language": "python",
   "name": "python3"
  },
  "language_info": {
   "codemirror_mode": {
    "name": "ipython",
    "version": 3
   },
   "file_extension": ".py",
   "mimetype": "text/x-python",
   "name": "python",
   "nbconvert_exporter": "python",
   "pygments_lexer": "ipython3",
   "version": "3.12.8"
  }
 },
 "nbformat": 4,
 "nbformat_minor": 2
}
